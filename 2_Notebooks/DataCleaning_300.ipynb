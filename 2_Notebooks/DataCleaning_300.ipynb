{
 "cells": [
  {
   "cell_type": "markdown",
   "metadata": {},
   "source": [
    "# Final Project\n",
    "## Data Analysis in Human Resources\n",
    "Ana André, Data squad #21 | Lisboa, 2019.10.11"
   ]
  },
  {
   "cell_type": "markdown",
   "metadata": {},
   "source": [
    "## Table of Contents\n",
    "- [Context](#context)\n",
    "- [Motivation](#motivation)\n",
    "- [Dataset](#dataset)\n",
    "- [Explore the dataset](#explore-dataset)\n",
    "- [Modeling, prediction and evaluation - Original Data Set](#modeling-original-dataset)\n",
    "- [Modeling, prediction and evaluation - Resampling the data](#modeling-resampled-dataset)\n",
    "- [Recursive feature elimination](#RFE)\n",
    "- [Cross validation](#CV)"
   ]
  },
  {
   "cell_type": "markdown",
   "metadata": {},
   "source": [
    "<a name=\"context\"></a>\n",
    "\n",
    "## Context\n",
    "\n",
    "For this project I put myself on the shoes of a data analyst working for a building facilities management company and I did a supervised machine learning for room occupancy detection to improve the algorithm of the HVAC control systems."
   ]
  },
  {
   "cell_type": "markdown",
   "metadata": {},
   "source": [
    "<a name=\"motivation\"></a>\n",
    "\n",
    "## Motivation\n",
    "\n",
    "Energy efficiency in buildings has been a hot topic for quite a while now both for sustainability and cost reasons.\n",
    "Literature states that the accurate determination of room occupancy detection can lead to energy savings up to 30 to 40 % which can mean a lot in terms of money and CO2 emitions.\n",
    "So designing smart buildings, buildings able to adjust to user's needs in real time, is the path we want to follow."
   ]
  },
  {
   "cell_type": "markdown",
   "metadata": {},
   "source": [
    "<a name=\"dataset\"></a>\n",
    "\n",
    "## Dataset\n",
    "\n",
    "I got my dataset from the University of California's repository for machine learning.\n",
    "It results from an experiment that monotorized 4 environmental measures over time:\n",
    "- temperature\n",
    "- humidity\n",
    "- light\n",
    "- CO2 concentration.\n",
    "20560 instances for each feature.\n",
    "There is also a label feature to specify the room occupation (1 for occupied, 0 for non-occupied)\n",
    "\n",
    "[Dataset](https://archive.ics.uci.edu/ml/datasets/Occupancy+Detection+#)"
   ]
  },
  {
   "cell_type": "markdown",
   "metadata": {},
   "source": [
    "<a name=\"eda\"></a>\n",
    "\n",
    "## Data Cleaning"
   ]
  },
  {
   "cell_type": "markdown",
   "metadata": {},
   "source": [
    "### Import Libraries"
   ]
  },
  {
   "cell_type": "code",
   "execution_count": 1,
   "metadata": {},
   "outputs": [],
   "source": [
    "# import libraries\n",
    "import pandas as pd\n",
    "import numpy as np\n",
    "import matplotlib.pyplot as plt\n",
    "import seaborn as sns"
   ]
  },
  {
   "cell_type": "code",
   "execution_count": 2,
   "metadata": {},
   "outputs": [],
   "source": [
    "from IPython.core.interactiveshell import InteractiveShell\n",
    "InteractiveShell.ast_node_interactivity = \"all\"\n",
    "%config InlineBackend.figure_format ='retina'\n",
    "%matplotlib inline"
   ]
  },
  {
   "cell_type": "markdown",
   "metadata": {},
   "source": [
    "### Load the data"
   ]
  },
  {
   "cell_type": "code",
   "execution_count": 3,
   "metadata": {},
   "outputs": [
    {
     "data": {
      "text/html": [
       "<div>\n",
       "<style scoped>\n",
       "    .dataframe tbody tr th:only-of-type {\n",
       "        vertical-align: middle;\n",
       "    }\n",
       "\n",
       "    .dataframe tbody tr th {\n",
       "        vertical-align: top;\n",
       "    }\n",
       "\n",
       "    .dataframe thead th {\n",
       "        text-align: right;\n",
       "    }\n",
       "</style>\n",
       "<table border=\"1\" class=\"dataframe\">\n",
       "  <thead>\n",
       "    <tr style=\"text-align: right;\">\n",
       "      <th></th>\n",
       "      <th>Employee_Name</th>\n",
       "      <th>EmpID</th>\n",
       "      <th>MarriedID</th>\n",
       "      <th>MaritalStatusID</th>\n",
       "      <th>GenderID</th>\n",
       "      <th>EmpStatusID</th>\n",
       "      <th>DeptID</th>\n",
       "      <th>PerfScoreID</th>\n",
       "      <th>FromDiversityJobFairID</th>\n",
       "      <th>PayRate</th>\n",
       "      <th>...</th>\n",
       "      <th>Department</th>\n",
       "      <th>ManagerName</th>\n",
       "      <th>ManagerID</th>\n",
       "      <th>RecruitmentSource</th>\n",
       "      <th>PerformanceScore</th>\n",
       "      <th>EngagementSurvey</th>\n",
       "      <th>EmpSatisfaction</th>\n",
       "      <th>SpecialProjectsCount</th>\n",
       "      <th>LastPerformanceReview_Date</th>\n",
       "      <th>DaysLateLast30</th>\n",
       "    </tr>\n",
       "  </thead>\n",
       "  <tbody>\n",
       "    <tr>\n",
       "      <th>0</th>\n",
       "      <td>Brown, Mia</td>\n",
       "      <td>1.103024e+09</td>\n",
       "      <td>1.0</td>\n",
       "      <td>1.0</td>\n",
       "      <td>0.0</td>\n",
       "      <td>1.0</td>\n",
       "      <td>1.0</td>\n",
       "      <td>3.0</td>\n",
       "      <td>1.0</td>\n",
       "      <td>28.50</td>\n",
       "      <td>...</td>\n",
       "      <td>Admin Offices</td>\n",
       "      <td>Brandon R. LeBlanc</td>\n",
       "      <td>1.0</td>\n",
       "      <td>Diversity Job Fair</td>\n",
       "      <td>Fully Meets</td>\n",
       "      <td>2.04</td>\n",
       "      <td>2.0</td>\n",
       "      <td>6.0</td>\n",
       "      <td>1/15/2019</td>\n",
       "      <td>0.0</td>\n",
       "    </tr>\n",
       "    <tr>\n",
       "      <th>1</th>\n",
       "      <td>LaRotonda, William</td>\n",
       "      <td>1.106027e+09</td>\n",
       "      <td>0.0</td>\n",
       "      <td>2.0</td>\n",
       "      <td>1.0</td>\n",
       "      <td>1.0</td>\n",
       "      <td>1.0</td>\n",
       "      <td>3.0</td>\n",
       "      <td>0.0</td>\n",
       "      <td>23.00</td>\n",
       "      <td>...</td>\n",
       "      <td>Admin Offices</td>\n",
       "      <td>Brandon R. LeBlanc</td>\n",
       "      <td>1.0</td>\n",
       "      <td>Website Banner Ads</td>\n",
       "      <td>Fully Meets</td>\n",
       "      <td>5.00</td>\n",
       "      <td>4.0</td>\n",
       "      <td>4.0</td>\n",
       "      <td>1/17/2019</td>\n",
       "      <td>0.0</td>\n",
       "    </tr>\n",
       "    <tr>\n",
       "      <th>2</th>\n",
       "      <td>Steans, Tyrone</td>\n",
       "      <td>1.302053e+09</td>\n",
       "      <td>0.0</td>\n",
       "      <td>0.0</td>\n",
       "      <td>1.0</td>\n",
       "      <td>1.0</td>\n",
       "      <td>1.0</td>\n",
       "      <td>3.0</td>\n",
       "      <td>0.0</td>\n",
       "      <td>29.00</td>\n",
       "      <td>...</td>\n",
       "      <td>Admin Offices</td>\n",
       "      <td>Brandon R. LeBlanc</td>\n",
       "      <td>1.0</td>\n",
       "      <td>Internet Search</td>\n",
       "      <td>Fully Meets</td>\n",
       "      <td>3.90</td>\n",
       "      <td>5.0</td>\n",
       "      <td>5.0</td>\n",
       "      <td>1/18/2019</td>\n",
       "      <td>0.0</td>\n",
       "    </tr>\n",
       "    <tr>\n",
       "      <th>3</th>\n",
       "      <td>Howard, Estelle</td>\n",
       "      <td>1.211051e+09</td>\n",
       "      <td>1.0</td>\n",
       "      <td>1.0</td>\n",
       "      <td>0.0</td>\n",
       "      <td>1.0</td>\n",
       "      <td>1.0</td>\n",
       "      <td>3.0</td>\n",
       "      <td>0.0</td>\n",
       "      <td>21.50</td>\n",
       "      <td>...</td>\n",
       "      <td>Admin Offices</td>\n",
       "      <td>Brandon R. LeBlanc</td>\n",
       "      <td>1.0</td>\n",
       "      <td>Pay Per Click - Google</td>\n",
       "      <td>Fully Meets</td>\n",
       "      <td>3.24</td>\n",
       "      <td>3.0</td>\n",
       "      <td>4.0</td>\n",
       "      <td>NaN</td>\n",
       "      <td>NaN</td>\n",
       "    </tr>\n",
       "    <tr>\n",
       "      <th>4</th>\n",
       "      <td>Singh, Nan</td>\n",
       "      <td>1.307060e+09</td>\n",
       "      <td>0.0</td>\n",
       "      <td>0.0</td>\n",
       "      <td>0.0</td>\n",
       "      <td>1.0</td>\n",
       "      <td>1.0</td>\n",
       "      <td>3.0</td>\n",
       "      <td>0.0</td>\n",
       "      <td>16.56</td>\n",
       "      <td>...</td>\n",
       "      <td>Admin Offices</td>\n",
       "      <td>Brandon R. LeBlanc</td>\n",
       "      <td>1.0</td>\n",
       "      <td>Website Banner Ads</td>\n",
       "      <td>Fully Meets</td>\n",
       "      <td>5.00</td>\n",
       "      <td>3.0</td>\n",
       "      <td>5.0</td>\n",
       "      <td>1/15/2019</td>\n",
       "      <td>0.0</td>\n",
       "    </tr>\n",
       "  </tbody>\n",
       "</table>\n",
       "<p>5 rows × 35 columns</p>\n",
       "</div>"
      ],
      "text/plain": [
       "          Employee_Name         EmpID  MarriedID  MaritalStatusID  GenderID  \\\n",
       "0            Brown, Mia  1.103024e+09        1.0              1.0       0.0   \n",
       "1  LaRotonda, William    1.106027e+09        0.0              2.0       1.0   \n",
       "2      Steans, Tyrone    1.302053e+09        0.0              0.0       1.0   \n",
       "3       Howard, Estelle  1.211051e+09        1.0              1.0       0.0   \n",
       "4           Singh, Nan   1.307060e+09        0.0              0.0       0.0   \n",
       "\n",
       "   EmpStatusID  DeptID  PerfScoreID  FromDiversityJobFairID  PayRate  ...  \\\n",
       "0          1.0     1.0          3.0                     1.0    28.50  ...   \n",
       "1          1.0     1.0          3.0                     0.0    23.00  ...   \n",
       "2          1.0     1.0          3.0                     0.0    29.00  ...   \n",
       "3          1.0     1.0          3.0                     0.0    21.50  ...   \n",
       "4          1.0     1.0          3.0                     0.0    16.56  ...   \n",
       "\n",
       "      Department         ManagerName ManagerID       RecruitmentSource  \\\n",
       "0  Admin Offices  Brandon R. LeBlanc       1.0      Diversity Job Fair   \n",
       "1  Admin Offices  Brandon R. LeBlanc       1.0      Website Banner Ads   \n",
       "2  Admin Offices  Brandon R. LeBlanc       1.0         Internet Search   \n",
       "3  Admin Offices  Brandon R. LeBlanc       1.0  Pay Per Click - Google   \n",
       "4  Admin Offices  Brandon R. LeBlanc       1.0      Website Banner Ads   \n",
       "\n",
       "   PerformanceScore EngagementSurvey EmpSatisfaction SpecialProjectsCount  \\\n",
       "0       Fully Meets             2.04             2.0                  6.0   \n",
       "1       Fully Meets             5.00             4.0                  4.0   \n",
       "2       Fully Meets             3.90             5.0                  5.0   \n",
       "3       Fully Meets             3.24             3.0                  4.0   \n",
       "4       Fully Meets             5.00             3.0                  5.0   \n",
       "\n",
       "  LastPerformanceReview_Date DaysLateLast30  \n",
       "0                  1/15/2019            0.0  \n",
       "1                  1/17/2019            0.0  \n",
       "2                  1/18/2019            0.0  \n",
       "3                        NaN            NaN  \n",
       "4                  1/15/2019            0.0  \n",
       "\n",
       "[5 rows x 35 columns]"
      ]
     },
     "execution_count": 3,
     "metadata": {},
     "output_type": "execute_result"
    }
   ],
   "source": [
    "# load the data\n",
    "data = pd.read_csv('../data/HRDataset_v13.csv') # kaggle dataset\n",
    "data.head()"
   ]
  },
  {
   "cell_type": "code",
   "execution_count": 4,
   "metadata": {},
   "outputs": [
    {
     "data": {
      "text/plain": [
       "(401, 35)"
      ]
     },
     "execution_count": 4,
     "metadata": {},
     "output_type": "execute_result"
    }
   ],
   "source": [
    "data.shape"
   ]
  },
  {
   "cell_type": "code",
   "execution_count": 5,
   "metadata": {},
   "outputs": [
    {
     "data": {
      "text/plain": [
       "Index(['Employee_Name', 'EmpID', 'MarriedID', 'MaritalStatusID', 'GenderID',\n",
       "       'EmpStatusID', 'DeptID', 'PerfScoreID', 'FromDiversityJobFairID',\n",
       "       'PayRate', 'Termd', 'PositionID', 'Position', 'State', 'Zip', 'DOB',\n",
       "       'Sex', 'MaritalDesc', 'CitizenDesc', 'HispanicLatino', 'RaceDesc',\n",
       "       'DateofHire', 'DateofTermination', 'TermReason', 'EmploymentStatus',\n",
       "       'Department', 'ManagerName', 'ManagerID', 'RecruitmentSource',\n",
       "       'PerformanceScore', 'EngagementSurvey', 'EmpSatisfaction',\n",
       "       'SpecialProjectsCount', 'LastPerformanceReview_Date', 'DaysLateLast30'],\n",
       "      dtype='object')"
      ]
     },
     "execution_count": 5,
     "metadata": {},
     "output_type": "execute_result"
    }
   ],
   "source": [
    "data.columns"
   ]
  },
  {
   "cell_type": "markdown",
   "metadata": {},
   "source": [
    "Columns description provided by the creator of the dataset:\n",
    "\n",
    "- Employee Name - Employee’s full name\n",
    "\n",
    "- EmpID - Employee ID is unique to each employee\n",
    "\n",
    "- MarriedID - Is the person married (1 or 0 for yes or no)\n",
    "\n",
    "- MaritalStatusID - Marital status code that matches the text field MaritalDesc\n",
    "\n",
    "- EmpStatusID - Employment status code that matches text field EmploymentStatus\n",
    "\n",
    "- DeptID - Department ID code that matches the department the employee works\n",
    "\n",
    "- PerfScoreID - Performance Score code that matches the employee’s most recent \n",
    "performance score\n",
    "\n",
    "- FromDiversityJobFairID - Was the employee sourced from the Diversity job fair? 1 or 0 for yes or no\n",
    "\n",
    "- PayRate - The person’s hourly pay rate. All salaries are converted to hourly pay rate\n",
    "\n",
    "- Termd - Has this employee been terminated - 1 or 0\n",
    "\n",
    "- PositionID - An integer indicating the person’s position\n",
    "\n",
    "- Position - The text name/title of the position the person has\n",
    "\n",
    "- State - The state that the person lives in\n",
    "\n",
    "- Zip - The zip code for the employee\n",
    "\n",
    "- DOB - Date of Birth for the employee\n",
    "\n",
    "- Sex - M or F\n",
    "\n",
    "- MaritalDesc - The marital status of the person (divorced, single, widowed, separated, etc)\n",
    "\n",
    "- CitizenDesc - Label for whether the person is a Citizen or Eligible NonCitizen\n",
    "\n",
    "- HispanicLatino - Yes or No field for whether the employee is Hispanic/Latino\n",
    "\n",
    "- RaceDesc - Description/text of the race the person identifies with\n",
    "\n",
    "- DateofHire - Date the person was hired\n",
    "\n",
    "- DateofTermination - Date the person was terminated, only populated if, in fact, Termd = 1\n",
    "\n",
    "- TermReason - A text reason / description for why the person was terminated\n",
    "\n",
    "- EmploymentStatus - A description/category of the person’s employment status. \n",
    "Anyone currently working full time = Active\n",
    "\n",
    "- Department - Name of the department that the person works in\n",
    "\n",
    "- ManagerName - The name of the person’s immediate manager\n",
    "\n",
    "- ManagerID - A unique identifier for each manager.\n",
    "\n",
    "- RecruitmentSource - The name of the recruitment source where the employee was recruited from\n",
    "\n",
    "- PerformanceScore - Performance Score text/category (Fully Meets, Partially Meets, PIP, Exceeds)\n",
    "\n",
    "- EngagementSurvey - Results from the last engagement survey, managed by our external partner\n",
    "\n",
    "- EmpSatisfaction - A basic satisfaction score between 1 and 5, as reported on a recent employee satisfaction survey\n",
    "\n",
    "- SpecialProjectsCount - The number of special projects that the employee worked on during the last 6 months\n",
    "\n",
    "- LastPerformanceReviewDate - The most recent date of the person’s last performance review.\n",
    "\n",
    "- DaysLateLast30 - The number of times that the employee was late to work during the last 30 days"
   ]
  },
  {
   "cell_type": "code",
   "execution_count": 6,
   "metadata": {},
   "outputs": [
    {
     "data": {
      "text/html": [
       "<div>\n",
       "<style scoped>\n",
       "    .dataframe tbody tr th:only-of-type {\n",
       "        vertical-align: middle;\n",
       "    }\n",
       "\n",
       "    .dataframe tbody tr th {\n",
       "        vertical-align: top;\n",
       "    }\n",
       "\n",
       "    .dataframe thead th {\n",
       "        text-align: right;\n",
       "    }\n",
       "</style>\n",
       "<table border=\"1\" class=\"dataframe\">\n",
       "  <thead>\n",
       "    <tr style=\"text-align: right;\">\n",
       "      <th></th>\n",
       "      <th>EmpID</th>\n",
       "      <th>MarriedID</th>\n",
       "      <th>MaritalStatusID</th>\n",
       "      <th>GenderID</th>\n",
       "      <th>EmpStatusID</th>\n",
       "      <th>DeptID</th>\n",
       "      <th>PerfScoreID</th>\n",
       "      <th>FromDiversityJobFairID</th>\n",
       "      <th>PayRate</th>\n",
       "      <th>Termd</th>\n",
       "      <th>PositionID</th>\n",
       "      <th>Zip</th>\n",
       "      <th>ManagerID</th>\n",
       "      <th>EngagementSurvey</th>\n",
       "      <th>EmpSatisfaction</th>\n",
       "      <th>SpecialProjectsCount</th>\n",
       "      <th>DaysLateLast30</th>\n",
       "    </tr>\n",
       "  </thead>\n",
       "  <tbody>\n",
       "    <tr>\n",
       "      <th>count</th>\n",
       "      <td>3.100000e+02</td>\n",
       "      <td>310.000000</td>\n",
       "      <td>310.000000</td>\n",
       "      <td>310.000000</td>\n",
       "      <td>310.000000</td>\n",
       "      <td>310.000000</td>\n",
       "      <td>310.000000</td>\n",
       "      <td>310.000000</td>\n",
       "      <td>310.000000</td>\n",
       "      <td>310.000000</td>\n",
       "      <td>310.000000</td>\n",
       "      <td>310.000000</td>\n",
       "      <td>302.000000</td>\n",
       "      <td>310.000000</td>\n",
       "      <td>310.000000</td>\n",
       "      <td>310.000000</td>\n",
       "      <td>207.0</td>\n",
       "    </tr>\n",
       "    <tr>\n",
       "      <th>mean</th>\n",
       "      <td>1.199745e+09</td>\n",
       "      <td>0.396774</td>\n",
       "      <td>0.809677</td>\n",
       "      <td>0.429032</td>\n",
       "      <td>2.396774</td>\n",
       "      <td>4.606452</td>\n",
       "      <td>2.983871</td>\n",
       "      <td>0.093548</td>\n",
       "      <td>31.284806</td>\n",
       "      <td>0.332258</td>\n",
       "      <td>16.838710</td>\n",
       "      <td>6569.732258</td>\n",
       "      <td>14.579470</td>\n",
       "      <td>3.332097</td>\n",
       "      <td>3.890323</td>\n",
       "      <td>1.209677</td>\n",
       "      <td>0.0</td>\n",
       "    </tr>\n",
       "    <tr>\n",
       "      <th>std</th>\n",
       "      <td>1.829600e+08</td>\n",
       "      <td>0.490019</td>\n",
       "      <td>0.944702</td>\n",
       "      <td>0.495738</td>\n",
       "      <td>1.795533</td>\n",
       "      <td>1.082349</td>\n",
       "      <td>0.577124</td>\n",
       "      <td>0.291670</td>\n",
       "      <td>15.383615</td>\n",
       "      <td>0.471785</td>\n",
       "      <td>6.232272</td>\n",
       "      <td>16933.864054</td>\n",
       "      <td>8.090352</td>\n",
       "      <td>1.290590</td>\n",
       "      <td>0.910690</td>\n",
       "      <td>2.352009</td>\n",
       "      <td>0.0</td>\n",
       "    </tr>\n",
       "    <tr>\n",
       "      <th>min</th>\n",
       "      <td>6.020003e+08</td>\n",
       "      <td>0.000000</td>\n",
       "      <td>0.000000</td>\n",
       "      <td>0.000000</td>\n",
       "      <td>1.000000</td>\n",
       "      <td>1.000000</td>\n",
       "      <td>1.000000</td>\n",
       "      <td>0.000000</td>\n",
       "      <td>14.000000</td>\n",
       "      <td>0.000000</td>\n",
       "      <td>1.000000</td>\n",
       "      <td>1013.000000</td>\n",
       "      <td>1.000000</td>\n",
       "      <td>1.030000</td>\n",
       "      <td>1.000000</td>\n",
       "      <td>0.000000</td>\n",
       "      <td>0.0</td>\n",
       "    </tr>\n",
       "    <tr>\n",
       "      <th>25%</th>\n",
       "      <td>1.101024e+09</td>\n",
       "      <td>0.000000</td>\n",
       "      <td>0.000000</td>\n",
       "      <td>0.000000</td>\n",
       "      <td>1.000000</td>\n",
       "      <td>5.000000</td>\n",
       "      <td>3.000000</td>\n",
       "      <td>0.000000</td>\n",
       "      <td>20.000000</td>\n",
       "      <td>0.000000</td>\n",
       "      <td>18.000000</td>\n",
       "      <td>1901.250000</td>\n",
       "      <td>10.000000</td>\n",
       "      <td>2.082500</td>\n",
       "      <td>3.000000</td>\n",
       "      <td>0.000000</td>\n",
       "      <td>0.0</td>\n",
       "    </tr>\n",
       "    <tr>\n",
       "      <th>50%</th>\n",
       "      <td>1.203032e+09</td>\n",
       "      <td>0.000000</td>\n",
       "      <td>1.000000</td>\n",
       "      <td>0.000000</td>\n",
       "      <td>1.000000</td>\n",
       "      <td>5.000000</td>\n",
       "      <td>3.000000</td>\n",
       "      <td>0.000000</td>\n",
       "      <td>24.000000</td>\n",
       "      <td>0.000000</td>\n",
       "      <td>19.000000</td>\n",
       "      <td>2132.000000</td>\n",
       "      <td>15.000000</td>\n",
       "      <td>3.470000</td>\n",
       "      <td>4.000000</td>\n",
       "      <td>0.000000</td>\n",
       "      <td>0.0</td>\n",
       "    </tr>\n",
       "    <tr>\n",
       "      <th>75%</th>\n",
       "      <td>1.378814e+09</td>\n",
       "      <td>1.000000</td>\n",
       "      <td>1.000000</td>\n",
       "      <td>1.000000</td>\n",
       "      <td>5.000000</td>\n",
       "      <td>5.000000</td>\n",
       "      <td>3.000000</td>\n",
       "      <td>0.000000</td>\n",
       "      <td>45.315000</td>\n",
       "      <td>1.000000</td>\n",
       "      <td>20.000000</td>\n",
       "      <td>2357.000000</td>\n",
       "      <td>19.000000</td>\n",
       "      <td>4.520000</td>\n",
       "      <td>5.000000</td>\n",
       "      <td>0.000000</td>\n",
       "      <td>0.0</td>\n",
       "    </tr>\n",
       "    <tr>\n",
       "      <th>max</th>\n",
       "      <td>1.988300e+09</td>\n",
       "      <td>1.000000</td>\n",
       "      <td>4.000000</td>\n",
       "      <td>1.000000</td>\n",
       "      <td>5.000000</td>\n",
       "      <td>6.000000</td>\n",
       "      <td>4.000000</td>\n",
       "      <td>1.000000</td>\n",
       "      <td>80.000000</td>\n",
       "      <td>1.000000</td>\n",
       "      <td>30.000000</td>\n",
       "      <td>98052.000000</td>\n",
       "      <td>39.000000</td>\n",
       "      <td>5.000000</td>\n",
       "      <td>5.000000</td>\n",
       "      <td>8.000000</td>\n",
       "      <td>0.0</td>\n",
       "    </tr>\n",
       "  </tbody>\n",
       "</table>\n",
       "</div>"
      ],
      "text/plain": [
       "              EmpID   MarriedID  MaritalStatusID    GenderID  EmpStatusID  \\\n",
       "count  3.100000e+02  310.000000       310.000000  310.000000   310.000000   \n",
       "mean   1.199745e+09    0.396774         0.809677    0.429032     2.396774   \n",
       "std    1.829600e+08    0.490019         0.944702    0.495738     1.795533   \n",
       "min    6.020003e+08    0.000000         0.000000    0.000000     1.000000   \n",
       "25%    1.101024e+09    0.000000         0.000000    0.000000     1.000000   \n",
       "50%    1.203032e+09    0.000000         1.000000    0.000000     1.000000   \n",
       "75%    1.378814e+09    1.000000         1.000000    1.000000     5.000000   \n",
       "max    1.988300e+09    1.000000         4.000000    1.000000     5.000000   \n",
       "\n",
       "           DeptID  PerfScoreID  FromDiversityJobFairID     PayRate  \\\n",
       "count  310.000000   310.000000              310.000000  310.000000   \n",
       "mean     4.606452     2.983871                0.093548   31.284806   \n",
       "std      1.082349     0.577124                0.291670   15.383615   \n",
       "min      1.000000     1.000000                0.000000   14.000000   \n",
       "25%      5.000000     3.000000                0.000000   20.000000   \n",
       "50%      5.000000     3.000000                0.000000   24.000000   \n",
       "75%      5.000000     3.000000                0.000000   45.315000   \n",
       "max      6.000000     4.000000                1.000000   80.000000   \n",
       "\n",
       "            Termd  PositionID           Zip   ManagerID  EngagementSurvey  \\\n",
       "count  310.000000  310.000000    310.000000  302.000000        310.000000   \n",
       "mean     0.332258   16.838710   6569.732258   14.579470          3.332097   \n",
       "std      0.471785    6.232272  16933.864054    8.090352          1.290590   \n",
       "min      0.000000    1.000000   1013.000000    1.000000          1.030000   \n",
       "25%      0.000000   18.000000   1901.250000   10.000000          2.082500   \n",
       "50%      0.000000   19.000000   2132.000000   15.000000          3.470000   \n",
       "75%      1.000000   20.000000   2357.000000   19.000000          4.520000   \n",
       "max      1.000000   30.000000  98052.000000   39.000000          5.000000   \n",
       "\n",
       "       EmpSatisfaction  SpecialProjectsCount  DaysLateLast30  \n",
       "count       310.000000            310.000000           207.0  \n",
       "mean          3.890323              1.209677             0.0  \n",
       "std           0.910690              2.352009             0.0  \n",
       "min           1.000000              0.000000             0.0  \n",
       "25%           3.000000              0.000000             0.0  \n",
       "50%           4.000000              0.000000             0.0  \n",
       "75%           5.000000              0.000000             0.0  \n",
       "max           5.000000              8.000000             0.0  "
      ]
     },
     "execution_count": 6,
     "metadata": {},
     "output_type": "execute_result"
    }
   ],
   "source": [
    "data.describe()"
   ]
  },
  {
   "cell_type": "markdown",
   "metadata": {},
   "source": [
    "### Handling 'DaysLateLast30' column"
   ]
  },
  {
   "cell_type": "code",
   "execution_count": 7,
   "metadata": {},
   "outputs": [
    {
     "data": {
      "text/plain": [
       "array([ 0., nan])"
      ]
     },
     "execution_count": 7,
     "metadata": {},
     "output_type": "execute_result"
    }
   ],
   "source": [
    "# check unique values in 'DaysLateLast30' column\n",
    "data.DaysLateLast30.unique()"
   ]
  },
  {
   "cell_type": "markdown",
   "metadata": {},
   "source": [
    "'DaysLateLast30' has either 0 or NaN values so it's usefull and I dropped it."
   ]
  },
  {
   "cell_type": "code",
   "execution_count": 8,
   "metadata": {},
   "outputs": [],
   "source": [
    "# drop column 'DaysLateLast30'\n",
    "data.drop('DaysLateLast30', axis = 1, inplace = True)"
   ]
  },
  {
   "cell_type": "markdown",
   "metadata": {},
   "source": [
    "### Handling Missing Values"
   ]
  },
  {
   "cell_type": "code",
   "execution_count": 9,
   "metadata": {},
   "outputs": [
    {
     "data": {
      "text/plain": [
       "Employee_Name                  91\n",
       "EmpID                          91\n",
       "MarriedID                      91\n",
       "MaritalStatusID                91\n",
       "GenderID                       91\n",
       "EmpStatusID                    91\n",
       "DeptID                         91\n",
       "PerfScoreID                    91\n",
       "FromDiversityJobFairID         91\n",
       "PayRate                        91\n",
       "Termd                          91\n",
       "PositionID                     91\n",
       "Position                       91\n",
       "State                          91\n",
       "Zip                            91\n",
       "DOB                            91\n",
       "Sex                            91\n",
       "MaritalDesc                    91\n",
       "CitizenDesc                    91\n",
       "HispanicLatino                 91\n",
       "RaceDesc                       91\n",
       "DateofHire                     91\n",
       "DateofTermination             298\n",
       "TermReason                     92\n",
       "EmploymentStatus               91\n",
       "Department                     91\n",
       "ManagerName                    91\n",
       "ManagerID                      99\n",
       "RecruitmentSource              91\n",
       "PerformanceScore               91\n",
       "EngagementSurvey               91\n",
       "EmpSatisfaction                91\n",
       "SpecialProjectsCount           91\n",
       "LastPerformanceReview_Date    194\n",
       "dtype: int64"
      ]
     },
     "execution_count": 9,
     "metadata": {},
     "output_type": "execute_result"
    }
   ],
   "source": [
    "# check for missing values\n",
    "data.isnull().sum()"
   ]
  },
  {
   "cell_type": "markdown",
   "metadata": {},
   "source": [
    "It seems that there are 91 empty rows in the dataset, so I dropped these rows."
   ]
  },
  {
   "cell_type": "code",
   "execution_count": 10,
   "metadata": {},
   "outputs": [
    {
     "data": {
      "text/html": [
       "<div>\n",
       "<style scoped>\n",
       "    .dataframe tbody tr th:only-of-type {\n",
       "        vertical-align: middle;\n",
       "    }\n",
       "\n",
       "    .dataframe tbody tr th {\n",
       "        vertical-align: top;\n",
       "    }\n",
       "\n",
       "    .dataframe thead th {\n",
       "        text-align: right;\n",
       "    }\n",
       "</style>\n",
       "<table border=\"1\" class=\"dataframe\">\n",
       "  <thead>\n",
       "    <tr style=\"text-align: right;\">\n",
       "      <th></th>\n",
       "      <th>Employee_Name</th>\n",
       "      <th>EmpID</th>\n",
       "      <th>MarriedID</th>\n",
       "      <th>MaritalStatusID</th>\n",
       "      <th>GenderID</th>\n",
       "      <th>EmpStatusID</th>\n",
       "      <th>DeptID</th>\n",
       "      <th>PerfScoreID</th>\n",
       "      <th>FromDiversityJobFairID</th>\n",
       "      <th>PayRate</th>\n",
       "      <th>...</th>\n",
       "      <th>EmploymentStatus</th>\n",
       "      <th>Department</th>\n",
       "      <th>ManagerName</th>\n",
       "      <th>ManagerID</th>\n",
       "      <th>RecruitmentSource</th>\n",
       "      <th>PerformanceScore</th>\n",
       "      <th>EngagementSurvey</th>\n",
       "      <th>EmpSatisfaction</th>\n",
       "      <th>SpecialProjectsCount</th>\n",
       "      <th>LastPerformanceReview_Date</th>\n",
       "    </tr>\n",
       "  </thead>\n",
       "  <tbody>\n",
       "    <tr>\n",
       "      <th>0</th>\n",
       "      <td>Brown, Mia</td>\n",
       "      <td>1.103024e+09</td>\n",
       "      <td>1.0</td>\n",
       "      <td>1.0</td>\n",
       "      <td>0.0</td>\n",
       "      <td>1.0</td>\n",
       "      <td>1.0</td>\n",
       "      <td>3.0</td>\n",
       "      <td>1.0</td>\n",
       "      <td>28.50</td>\n",
       "      <td>...</td>\n",
       "      <td>Active</td>\n",
       "      <td>Admin Offices</td>\n",
       "      <td>Brandon R. LeBlanc</td>\n",
       "      <td>1.0</td>\n",
       "      <td>Diversity Job Fair</td>\n",
       "      <td>Fully Meets</td>\n",
       "      <td>2.04</td>\n",
       "      <td>2.0</td>\n",
       "      <td>6.0</td>\n",
       "      <td>1/15/2019</td>\n",
       "    </tr>\n",
       "    <tr>\n",
       "      <th>1</th>\n",
       "      <td>LaRotonda, William</td>\n",
       "      <td>1.106027e+09</td>\n",
       "      <td>0.0</td>\n",
       "      <td>2.0</td>\n",
       "      <td>1.0</td>\n",
       "      <td>1.0</td>\n",
       "      <td>1.0</td>\n",
       "      <td>3.0</td>\n",
       "      <td>0.0</td>\n",
       "      <td>23.00</td>\n",
       "      <td>...</td>\n",
       "      <td>Active</td>\n",
       "      <td>Admin Offices</td>\n",
       "      <td>Brandon R. LeBlanc</td>\n",
       "      <td>1.0</td>\n",
       "      <td>Website Banner Ads</td>\n",
       "      <td>Fully Meets</td>\n",
       "      <td>5.00</td>\n",
       "      <td>4.0</td>\n",
       "      <td>4.0</td>\n",
       "      <td>1/17/2019</td>\n",
       "    </tr>\n",
       "    <tr>\n",
       "      <th>2</th>\n",
       "      <td>Steans, Tyrone</td>\n",
       "      <td>1.302053e+09</td>\n",
       "      <td>0.0</td>\n",
       "      <td>0.0</td>\n",
       "      <td>1.0</td>\n",
       "      <td>1.0</td>\n",
       "      <td>1.0</td>\n",
       "      <td>3.0</td>\n",
       "      <td>0.0</td>\n",
       "      <td>29.00</td>\n",
       "      <td>...</td>\n",
       "      <td>Active</td>\n",
       "      <td>Admin Offices</td>\n",
       "      <td>Brandon R. LeBlanc</td>\n",
       "      <td>1.0</td>\n",
       "      <td>Internet Search</td>\n",
       "      <td>Fully Meets</td>\n",
       "      <td>3.90</td>\n",
       "      <td>5.0</td>\n",
       "      <td>5.0</td>\n",
       "      <td>1/18/2019</td>\n",
       "    </tr>\n",
       "    <tr>\n",
       "      <th>3</th>\n",
       "      <td>Howard, Estelle</td>\n",
       "      <td>1.211051e+09</td>\n",
       "      <td>1.0</td>\n",
       "      <td>1.0</td>\n",
       "      <td>0.0</td>\n",
       "      <td>1.0</td>\n",
       "      <td>1.0</td>\n",
       "      <td>3.0</td>\n",
       "      <td>0.0</td>\n",
       "      <td>21.50</td>\n",
       "      <td>...</td>\n",
       "      <td>Terminated for Cause</td>\n",
       "      <td>Admin Offices</td>\n",
       "      <td>Brandon R. LeBlanc</td>\n",
       "      <td>1.0</td>\n",
       "      <td>Pay Per Click - Google</td>\n",
       "      <td>Fully Meets</td>\n",
       "      <td>3.24</td>\n",
       "      <td>3.0</td>\n",
       "      <td>4.0</td>\n",
       "      <td>NaN</td>\n",
       "    </tr>\n",
       "    <tr>\n",
       "      <th>4</th>\n",
       "      <td>Singh, Nan</td>\n",
       "      <td>1.307060e+09</td>\n",
       "      <td>0.0</td>\n",
       "      <td>0.0</td>\n",
       "      <td>0.0</td>\n",
       "      <td>1.0</td>\n",
       "      <td>1.0</td>\n",
       "      <td>3.0</td>\n",
       "      <td>0.0</td>\n",
       "      <td>16.56</td>\n",
       "      <td>...</td>\n",
       "      <td>Active</td>\n",
       "      <td>Admin Offices</td>\n",
       "      <td>Brandon R. LeBlanc</td>\n",
       "      <td>1.0</td>\n",
       "      <td>Website Banner Ads</td>\n",
       "      <td>Fully Meets</td>\n",
       "      <td>5.00</td>\n",
       "      <td>3.0</td>\n",
       "      <td>5.0</td>\n",
       "      <td>1/15/2019</td>\n",
       "    </tr>\n",
       "  </tbody>\n",
       "</table>\n",
       "<p>5 rows × 34 columns</p>\n",
       "</div>"
      ],
      "text/plain": [
       "          Employee_Name         EmpID  MarriedID  MaritalStatusID  GenderID  \\\n",
       "0            Brown, Mia  1.103024e+09        1.0              1.0       0.0   \n",
       "1  LaRotonda, William    1.106027e+09        0.0              2.0       1.0   \n",
       "2      Steans, Tyrone    1.302053e+09        0.0              0.0       1.0   \n",
       "3       Howard, Estelle  1.211051e+09        1.0              1.0       0.0   \n",
       "4           Singh, Nan   1.307060e+09        0.0              0.0       0.0   \n",
       "\n",
       "   EmpStatusID  DeptID  PerfScoreID  FromDiversityJobFairID  PayRate  ...  \\\n",
       "0          1.0     1.0          3.0                     1.0    28.50  ...   \n",
       "1          1.0     1.0          3.0                     0.0    23.00  ...   \n",
       "2          1.0     1.0          3.0                     0.0    29.00  ...   \n",
       "3          1.0     1.0          3.0                     0.0    21.50  ...   \n",
       "4          1.0     1.0          3.0                     0.0    16.56  ...   \n",
       "\n",
       "       EmploymentStatus     Department         ManagerName ManagerID  \\\n",
       "0                Active  Admin Offices  Brandon R. LeBlanc       1.0   \n",
       "1                Active  Admin Offices  Brandon R. LeBlanc       1.0   \n",
       "2                Active  Admin Offices  Brandon R. LeBlanc       1.0   \n",
       "3  Terminated for Cause  Admin Offices  Brandon R. LeBlanc       1.0   \n",
       "4                Active  Admin Offices  Brandon R. LeBlanc       1.0   \n",
       "\n",
       "        RecruitmentSource PerformanceScore EngagementSurvey EmpSatisfaction  \\\n",
       "0      Diversity Job Fair      Fully Meets             2.04             2.0   \n",
       "1      Website Banner Ads      Fully Meets             5.00             4.0   \n",
       "2         Internet Search      Fully Meets             3.90             5.0   \n",
       "3  Pay Per Click - Google      Fully Meets             3.24             3.0   \n",
       "4      Website Banner Ads      Fully Meets             5.00             3.0   \n",
       "\n",
       "  SpecialProjectsCount LastPerformanceReview_Date  \n",
       "0                  6.0                  1/15/2019  \n",
       "1                  4.0                  1/17/2019  \n",
       "2                  5.0                  1/18/2019  \n",
       "3                  4.0                        NaN  \n",
       "4                  5.0                  1/15/2019  \n",
       "\n",
       "[5 rows x 34 columns]"
      ]
     },
     "execution_count": 10,
     "metadata": {},
     "output_type": "execute_result"
    }
   ],
   "source": [
    "# drop empty rows\n",
    "data.dropna(axis = 0, how = 'all', inplace = True)\n",
    "data.head()"
   ]
  },
  {
   "cell_type": "code",
   "execution_count": 11,
   "metadata": {},
   "outputs": [
    {
     "data": {
      "text/plain": [
       "(310, 34)"
      ]
     },
     "execution_count": 11,
     "metadata": {},
     "output_type": "execute_result"
    }
   ],
   "source": [
    "data.shape"
   ]
  },
  {
   "cell_type": "code",
   "execution_count": 12,
   "metadata": {},
   "outputs": [
    {
     "data": {
      "text/plain": [
       "0"
      ]
     },
     "execution_count": 12,
     "metadata": {},
     "output_type": "execute_result"
    }
   ],
   "source": [
    "# check for duplicates\n",
    "data.duplicated().sum()"
   ]
  },
  {
   "cell_type": "markdown",
   "metadata": {},
   "source": [
    "There are no duplicated values."
   ]
  },
  {
   "cell_type": "code",
   "execution_count": 13,
   "metadata": {},
   "outputs": [
    {
     "data": {
      "text/plain": [
       "Employee_Name                   0\n",
       "EmpID                           0\n",
       "MarriedID                       0\n",
       "MaritalStatusID                 0\n",
       "GenderID                        0\n",
       "EmpStatusID                     0\n",
       "DeptID                          0\n",
       "PerfScoreID                     0\n",
       "FromDiversityJobFairID          0\n",
       "PayRate                         0\n",
       "Termd                           0\n",
       "PositionID                      0\n",
       "Position                        0\n",
       "State                           0\n",
       "Zip                             0\n",
       "DOB                             0\n",
       "Sex                             0\n",
       "MaritalDesc                     0\n",
       "CitizenDesc                     0\n",
       "HispanicLatino                  0\n",
       "RaceDesc                        0\n",
       "DateofHire                      0\n",
       "DateofTermination             207\n",
       "TermReason                      1\n",
       "EmploymentStatus                0\n",
       "Department                      0\n",
       "ManagerName                     0\n",
       "ManagerID                       8\n",
       "RecruitmentSource               0\n",
       "PerformanceScore                0\n",
       "EngagementSurvey                0\n",
       "EmpSatisfaction                 0\n",
       "SpecialProjectsCount            0\n",
       "LastPerformanceReview_Date    103\n",
       "dtype: int64"
      ]
     },
     "execution_count": 13,
     "metadata": {},
     "output_type": "execute_result"
    }
   ],
   "source": [
    "# check for missing values again\n",
    "data.isnull().sum()"
   ]
  },
  {
   "cell_type": "markdown",
   "metadata": {},
   "source": [
    "'DateofTermination' and 'LastPerformanceReview_Date' have missing values.\n",
    "\n",
    "According to the column description, 'DateofTermination' is only populated if the employee is not active. Nevertheless, I did a check."
   ]
  },
  {
   "cell_type": "code",
   "execution_count": 14,
   "metadata": {},
   "outputs": [
    {
     "data": {
      "text/plain": [
       "0"
      ]
     },
     "execution_count": 14,
     "metadata": {},
     "output_type": "execute_result"
    }
   ],
   "source": [
    "# check if NaN values in 'DateofTermination' match active employees\n",
    "len(data[(data.Termd) == 1 & data['DateofTermination'].isnull()])"
   ]
  },
  {
   "cell_type": "markdown",
   "metadata": {},
   "source": [
    "As the result is 0, it's confirmed that it matches."
   ]
  },
  {
   "cell_type": "code",
   "execution_count": 15,
   "metadata": {},
   "outputs": [
    {
     "data": {
      "text/plain": [
       "0.0    207\n",
       "1.0    103\n",
       "Name: Termd, dtype: int64"
      ]
     },
     "execution_count": 15,
     "metadata": {},
     "output_type": "execute_result"
    }
   ],
   "source": [
    "# check values in 'Termd': 0 stands for active employees, 1 is for employees that have been terminated\n",
    "data.Termd.value_counts()"
   ]
  },
  {
   "cell_type": "markdown",
   "metadata": {},
   "source": [
    "In the above step, I also realized that the missing values in 'LastPerformanceReview_Date' match the number of employees that have been terminated. So this columns is also solved.\n",
    "\n",
    "There's also a missing value in 'TermReason' but I didn't drop the row because it's only a value and the row has meaningful information for the other fields.\n",
    "\n",
    "I decided to fill all the NaN values with 0."
   ]
  },
  {
   "cell_type": "code",
   "execution_count": 16,
   "metadata": {},
   "outputs": [],
   "source": [
    "# filling NaN values with 0\n",
    "data_fillna = data.fillna(0)"
   ]
  },
  {
   "cell_type": "code",
   "execution_count": 17,
   "metadata": {},
   "outputs": [
    {
     "data": {
      "text/plain": [
       "Employee_Name                 0\n",
       "EmpID                         0\n",
       "MarriedID                     0\n",
       "MaritalStatusID               0\n",
       "GenderID                      0\n",
       "EmpStatusID                   0\n",
       "DeptID                        0\n",
       "PerfScoreID                   0\n",
       "FromDiversityJobFairID        0\n",
       "PayRate                       0\n",
       "Termd                         0\n",
       "PositionID                    0\n",
       "Position                      0\n",
       "State                         0\n",
       "Zip                           0\n",
       "DOB                           0\n",
       "Sex                           0\n",
       "MaritalDesc                   0\n",
       "CitizenDesc                   0\n",
       "HispanicLatino                0\n",
       "RaceDesc                      0\n",
       "DateofHire                    0\n",
       "DateofTermination             0\n",
       "TermReason                    0\n",
       "EmploymentStatus              0\n",
       "Department                    0\n",
       "ManagerName                   0\n",
       "ManagerID                     0\n",
       "RecruitmentSource             0\n",
       "PerformanceScore              0\n",
       "EngagementSurvey              0\n",
       "EmpSatisfaction               0\n",
       "SpecialProjectsCount          0\n",
       "LastPerformanceReview_Date    0\n",
       "dtype: int64"
      ]
     },
     "execution_count": 17,
     "metadata": {},
     "output_type": "execute_result"
    }
   ],
   "source": [
    "# check missing values again\n",
    "data_fillna.isnull().sum()"
   ]
  },
  {
   "cell_type": "code",
   "execution_count": 18,
   "metadata": {},
   "outputs": [
    {
     "data": {
      "text/plain": [
       "Employee_Name                  object\n",
       "EmpID                         float64\n",
       "MarriedID                     float64\n",
       "MaritalStatusID               float64\n",
       "GenderID                      float64\n",
       "EmpStatusID                   float64\n",
       "DeptID                        float64\n",
       "PerfScoreID                   float64\n",
       "FromDiversityJobFairID        float64\n",
       "PayRate                       float64\n",
       "Termd                         float64\n",
       "PositionID                    float64\n",
       "Position                       object\n",
       "State                          object\n",
       "Zip                           float64\n",
       "DOB                            object\n",
       "Sex                            object\n",
       "MaritalDesc                    object\n",
       "CitizenDesc                    object\n",
       "HispanicLatino                 object\n",
       "RaceDesc                       object\n",
       "DateofHire                     object\n",
       "DateofTermination              object\n",
       "TermReason                     object\n",
       "EmploymentStatus               object\n",
       "Department                     object\n",
       "ManagerName                    object\n",
       "ManagerID                     float64\n",
       "RecruitmentSource              object\n",
       "PerformanceScore               object\n",
       "EngagementSurvey              float64\n",
       "EmpSatisfaction               float64\n",
       "SpecialProjectsCount          float64\n",
       "LastPerformanceReview_Date     object\n",
       "dtype: object"
      ]
     },
     "execution_count": 18,
     "metadata": {},
     "output_type": "execute_result"
    }
   ],
   "source": [
    "# check data types\n",
    "data_fillna.dtypes"
   ]
  },
  {
   "cell_type": "markdown",
   "metadata": {},
   "source": [
    "There are a few data types that should be converted, namely:\n",
    "- *ID columns -> int\n",
    "- Termd -> int\n",
    "- ZIP -> int\n",
    "- DOB,DateofHire, DateofTermination, LastPerformanceReview_Date -> date\n",
    "- EmpSatisfaction -> int\n",
    "- SpecialProjectsCount -> int"
   ]
  },
  {
   "cell_type": "markdown",
   "metadata": {},
   "source": [
    "### Convert data types"
   ]
  },
  {
   "cell_type": "markdown",
   "metadata": {},
   "source": [
    "#### Convert to int64"
   ]
  },
  {
   "cell_type": "code",
   "execution_count": 19,
   "metadata": {},
   "outputs": [
    {
     "data": {
      "text/plain": [
       "['EmpID',\n",
       " 'MarriedID',\n",
       " 'MaritalStatusID',\n",
       " 'GenderID',\n",
       " 'EmpStatusID',\n",
       " 'DeptID',\n",
       " 'PerfScoreID',\n",
       " 'FromDiversityJobFairID',\n",
       " 'PositionID',\n",
       " 'ManagerID']"
      ]
     },
     "execution_count": 19,
     "metadata": {},
     "output_type": "execute_result"
    }
   ],
   "source": [
    "# creating of columns that end with 'ID'\n",
    "col_int_ID = [i for i in list(data_fillna.columns) if i.endswith('ID')]\n",
    "col_int_ID"
   ]
  },
  {
   "cell_type": "code",
   "execution_count": 20,
   "metadata": {},
   "outputs": [
    {
     "data": {
      "text/plain": [
       "['EmpID',\n",
       " 'MarriedID',\n",
       " 'MaritalStatusID',\n",
       " 'GenderID',\n",
       " 'EmpStatusID',\n",
       " 'DeptID',\n",
       " 'PerfScoreID',\n",
       " 'FromDiversityJobFairID',\n",
       " 'PositionID',\n",
       " 'ManagerID',\n",
       " 'Termd',\n",
       " 'Zip',\n",
       " 'EmpSatisfaction',\n",
       " 'SpecialProjectsCount']"
      ]
     },
     "execution_count": 20,
     "metadata": {},
     "output_type": "execute_result"
    }
   ],
   "source": [
    "# add the other columns\n",
    "col_int_add = ['Termd','Zip','EmpSatisfaction','SpecialProjectsCount']\n",
    "\n",
    "col_int = col_int_ID + col_int_add\n",
    "col_int"
   ]
  },
  {
   "cell_type": "code",
   "execution_count": 21,
   "metadata": {},
   "outputs": [
    {
     "data": {
      "text/plain": [
       "Employee_Name                  object\n",
       "EmpID                           int64\n",
       "MarriedID                       int64\n",
       "MaritalStatusID                 int64\n",
       "GenderID                        int64\n",
       "EmpStatusID                     int64\n",
       "DeptID                          int64\n",
       "PerfScoreID                     int64\n",
       "FromDiversityJobFairID          int64\n",
       "PayRate                       float64\n",
       "Termd                           int64\n",
       "PositionID                      int64\n",
       "Position                       object\n",
       "State                          object\n",
       "Zip                             int64\n",
       "DOB                            object\n",
       "Sex                            object\n",
       "MaritalDesc                    object\n",
       "CitizenDesc                    object\n",
       "HispanicLatino                 object\n",
       "RaceDesc                       object\n",
       "DateofHire                     object\n",
       "DateofTermination              object\n",
       "TermReason                     object\n",
       "EmploymentStatus               object\n",
       "Department                     object\n",
       "ManagerName                    object\n",
       "ManagerID                       int64\n",
       "RecruitmentSource              object\n",
       "PerformanceScore               object\n",
       "EngagementSurvey              float64\n",
       "EmpSatisfaction                 int64\n",
       "SpecialProjectsCount            int64\n",
       "LastPerformanceReview_Date     object\n",
       "dtype: object"
      ]
     },
     "execution_count": 21,
     "metadata": {},
     "output_type": "execute_result"
    }
   ],
   "source": [
    "# convert to int\n",
    "for i in col_int:\n",
    "    data_fillna[i] = data_fillna[i].astype('int64')\n",
    "\n",
    "data_fillna.dtypes"
   ]
  },
  {
   "cell_type": "markdown",
   "metadata": {},
   "source": [
    "#### Convert to date"
   ]
  },
  {
   "cell_type": "code",
   "execution_count": 22,
   "metadata": {},
   "outputs": [
    {
     "data": {
      "text/plain": [
       "Employee_Name                         object\n",
       "EmpID                                  int64\n",
       "MarriedID                              int64\n",
       "MaritalStatusID                        int64\n",
       "GenderID                               int64\n",
       "EmpStatusID                            int64\n",
       "DeptID                                 int64\n",
       "PerfScoreID                            int64\n",
       "FromDiversityJobFairID                 int64\n",
       "PayRate                              float64\n",
       "Termd                                  int64\n",
       "PositionID                             int64\n",
       "Position                              object\n",
       "State                                 object\n",
       "Zip                                    int64\n",
       "DOB                           datetime64[ns]\n",
       "Sex                                   object\n",
       "MaritalDesc                           object\n",
       "CitizenDesc                           object\n",
       "HispanicLatino                        object\n",
       "RaceDesc                              object\n",
       "DateofHire                    datetime64[ns]\n",
       "DateofTermination             datetime64[ns]\n",
       "TermReason                            object\n",
       "EmploymentStatus                      object\n",
       "Department                            object\n",
       "ManagerName                           object\n",
       "ManagerID                              int64\n",
       "RecruitmentSource                     object\n",
       "PerformanceScore                      object\n",
       "EngagementSurvey                     float64\n",
       "EmpSatisfaction                        int64\n",
       "SpecialProjectsCount                   int64\n",
       "LastPerformanceReview_Date    datetime64[ns]\n",
       "dtype: object"
      ]
     },
     "execution_count": 22,
     "metadata": {},
     "output_type": "execute_result"
    }
   ],
   "source": [
    "# convert to datetime\n",
    "\n",
    "col_to_date = ['DOB','DateofHire', 'DateofTermination', 'LastPerformanceReview_Date']\n",
    "\n",
    "for i in col_to_date:\n",
    "    data_fillna[i] = pd.to_datetime(data_fillna[i])\n",
    "\n",
    "data_fillna.dtypes"
   ]
  },
  {
   "cell_type": "code",
   "execution_count": 23,
   "metadata": {},
   "outputs": [
    {
     "data": {
      "text/plain": [
       "6     2064-06-01\n",
       "7     2063-05-15\n",
       "12    2054-10-12\n",
       "22    2063-08-28\n",
       "31    2068-01-15\n",
       "32    2065-05-07\n",
       "54    2066-03-17\n",
       "57    2064-01-04\n",
       "61    2068-07-06\n",
       "73    2054-09-21\n",
       "74    2068-10-10\n",
       "87    2055-11-14\n",
       "91    2067-04-19\n",
       "101   2065-05-09\n",
       "102   2065-09-09\n",
       "112   2067-06-03\n",
       "115   2068-07-20\n",
       "116   2067-06-05\n",
       "146   2068-08-15\n",
       "155   2064-04-13\n",
       "157   2068-05-30\n",
       "159   2061-06-19\n",
       "160   2068-06-06\n",
       "164   2058-12-27\n",
       "175   2065-02-02\n",
       "184   2066-03-22\n",
       "195   2051-01-02\n",
       "200   2059-08-19\n",
       "213   2055-04-14\n",
       "215   2052-08-18\n",
       "231   2064-10-12\n",
       "235   2058-11-07\n",
       "242   2067-01-16\n",
       "247   2063-10-30\n",
       "248   2053-05-24\n",
       "249   2066-04-17\n",
       "250   2051-02-25\n",
       "279   2052-02-11\n",
       "298   2066-11-22\n",
       "303   2064-07-30\n",
       "305   2052-01-18\n",
       "308   2065-09-09\n",
       "Name: DOB, dtype: datetime64[ns]"
      ]
     },
     "execution_count": 23,
     "metadata": {},
     "output_type": "execute_result"
    }
   ],
   "source": [
    "# checking for wrong converted dates in DOB\n",
    "data_fillna.DOB[data_fillna.DOB.dt.year > 2019]"
   ]
  },
  {
   "cell_type": "code",
   "execution_count": 24,
   "metadata": {},
   "outputs": [
    {
     "data": {
      "text/plain": [
       "0   1987-11-24\n",
       "1   1984-04-26\n",
       "2   1986-09-01\n",
       "3   1985-09-16\n",
       "4   1988-05-19\n",
       "Name: DOB, dtype: datetime64[ns]"
      ]
     },
     "execution_count": 24,
     "metadata": {},
     "output_type": "execute_result"
    }
   ],
   "source": [
    "# fixing DOB dates\n",
    "data_fillna.DOB = data_fillna.DOB.apply(lambda x: x - pd.DateOffset(years = 100) if x.year > 2019 else x)\n",
    "data_fillna.DOB.head()"
   ]
  },
  {
   "cell_type": "code",
   "execution_count": 25,
   "metadata": {},
   "outputs": [
    {
     "data": {
      "text/plain": [
       "1970-01-01    207\n",
       "2012-09-24      2\n",
       "2014-04-04      2\n",
       "2015-09-07      2\n",
       "2016-05-01      2\n",
       "Name: DateofTermination, dtype: int64"
      ]
     },
     "execution_count": 25,
     "metadata": {},
     "output_type": "execute_result"
    }
   ],
   "source": [
    "# checking for wrong convert dates in 'DateofTermination'\n",
    "data_fillna.DateofTermination.value_counts()[:5]"
   ]
  },
  {
   "cell_type": "markdown",
   "metadata": {},
   "source": [
    "The missing values filled with 0 were now converted to '1970-01-01' and need to be fixed."
   ]
  },
  {
   "cell_type": "code",
   "execution_count": 26,
   "metadata": {},
   "outputs": [],
   "source": [
    "# fixing 'DateofTermination' dates\n",
    "#data_fillna.DateofTermination = data_fillna.DateofTermination.apply(lambda x: 0 if x.year == 1970 else x)\n",
    "#data_fillna.DateofTermination.head()"
   ]
  },
  {
   "cell_type": "code",
   "execution_count": 27,
   "metadata": {},
   "outputs": [
    {
     "data": {
      "text/plain": [
       "1970-01-01    103\n",
       "2019-01-14     18\n",
       "2019-02-18     12\n",
       "2019-01-21     10\n",
       "2019-01-28      9\n",
       "Name: LastPerformanceReview_Date, dtype: int64"
      ]
     },
     "execution_count": 27,
     "metadata": {},
     "output_type": "execute_result"
    }
   ],
   "source": [
    "# checking for wrong convert dates in 'LastPerformanceReview_Date'\n",
    "data_fillna.LastPerformanceReview_Date.value_counts()[:5]"
   ]
  },
  {
   "cell_type": "code",
   "execution_count": 28,
   "metadata": {},
   "outputs": [],
   "source": [
    "# fixing 'LastPerformanceReview_Date'\n",
    "#data_fillna.LastPerformanceReview_Date = data_fillna.LastPerformanceReview_Date.apply(lambda x: 0 if x.year == 1970 else x)\n",
    "#data_fillna.LastPerformanceReview_Date.head()"
   ]
  },
  {
   "cell_type": "code",
   "execution_count": 29,
   "metadata": {},
   "outputs": [
    {
     "data": {
      "text/plain": [
       "Employee_Name                         object\n",
       "EmpID                                  int64\n",
       "MarriedID                              int64\n",
       "MaritalStatusID                        int64\n",
       "GenderID                               int64\n",
       "EmpStatusID                            int64\n",
       "DeptID                                 int64\n",
       "PerfScoreID                            int64\n",
       "FromDiversityJobFairID                 int64\n",
       "PayRate                              float64\n",
       "Termd                                  int64\n",
       "PositionID                             int64\n",
       "Position                              object\n",
       "State                                 object\n",
       "Zip                                    int64\n",
       "DOB                           datetime64[ns]\n",
       "Sex                                   object\n",
       "MaritalDesc                           object\n",
       "CitizenDesc                           object\n",
       "HispanicLatino                        object\n",
       "RaceDesc                              object\n",
       "DateofHire                    datetime64[ns]\n",
       "DateofTermination             datetime64[ns]\n",
       "TermReason                            object\n",
       "EmploymentStatus                      object\n",
       "Department                            object\n",
       "ManagerName                           object\n",
       "ManagerID                              int64\n",
       "RecruitmentSource                     object\n",
       "PerformanceScore                      object\n",
       "EngagementSurvey                     float64\n",
       "EmpSatisfaction                        int64\n",
       "SpecialProjectsCount                   int64\n",
       "LastPerformanceReview_Date    datetime64[ns]\n",
       "dtype: object"
      ]
     },
     "execution_count": 29,
     "metadata": {},
     "output_type": "execute_result"
    }
   ],
   "source": [
    "data_fillna.dtypes"
   ]
  },
  {
   "cell_type": "markdown",
   "metadata": {},
   "source": [
    "### Handling 'HispanicLatino' column"
   ]
  },
  {
   "cell_type": "code",
   "execution_count": 30,
   "metadata": {},
   "outputs": [
    {
     "data": {
      "text/plain": [
       "array(['No', 'Yes', 'yes', 'no'], dtype=object)"
      ]
     },
     "execution_count": 30,
     "metadata": {},
     "output_type": "execute_result"
    }
   ],
   "source": [
    "data_fillna.HispanicLatino.unique()"
   ]
  },
  {
   "cell_type": "markdown",
   "metadata": {},
   "source": [
    "This column contains only 'yes' or 'no' values so I replaced the values with 1 and 0."
   ]
  },
  {
   "cell_type": "code",
   "execution_count": 31,
   "metadata": {},
   "outputs": [
    {
     "data": {
      "text/plain": [
       "array([0, 1], dtype=int64)"
      ]
     },
     "execution_count": 31,
     "metadata": {},
     "output_type": "execute_result"
    }
   ],
   "source": [
    "### Replace HispanicLatin with binary values: 1 for yes and 0 for no\n",
    "data_binary_hispanic = data_fillna.copy()\n",
    "data_binary_hispanic['HispanicLatino'] = data_binary_hispanic.HispanicLatino.replace({'No':0,\n",
    "                                                                      'Yes':1,\n",
    "                                                                      'yes':1,\n",
    "                                                                      'no':0})\n",
    "data_binary_hispanic.HispanicLatino.unique()"
   ]
  },
  {
   "cell_type": "code",
   "execution_count": 32,
   "metadata": {},
   "outputs": [
    {
     "data": {
      "text/plain": [
       "dtype('int64')"
      ]
     },
     "execution_count": 32,
     "metadata": {},
     "output_type": "execute_result"
    }
   ],
   "source": [
    "data_binary_hispanic.HispanicLatino.dtypes"
   ]
  },
  {
   "cell_type": "code",
   "execution_count": 33,
   "metadata": {},
   "outputs": [
    {
     "data": {
      "text/plain": [
       "(<Figure size 648x504 with 1 Axes>,\n",
       " <matplotlib.axes._subplots.AxesSubplot at 0x1f42d3e1400>)"
      ]
     },
     "execution_count": 33,
     "metadata": {},
     "output_type": "execute_result"
    },
    {
     "data": {
      "text/plain": [
       "<matplotlib.axes._subplots.AxesSubplot at 0x1f42d3e1400>"
      ]
     },
     "execution_count": 33,
     "metadata": {},
     "output_type": "execute_result"
    },
    {
     "data": {
      "text/plain": [
       "Text(0, 0.5, 'Count')"
      ]
     },
     "execution_count": 33,
     "metadata": {},
     "output_type": "execute_result"
    },
    {
     "data": {
      "text/plain": [
       "Text(0.5, 0, 'Hispanic/Latino')"
      ]
     },
     "execution_count": 33,
     "metadata": {},
     "output_type": "execute_result"
    },
    {
     "data": {
      "text/plain": [
       "Text(0.5, 1.0, 'Hispanic/Latino Employees')"
      ]
     },
     "execution_count": 33,
     "metadata": {},
     "output_type": "execute_result"
    },
    {
     "data": {
      "image/png": "[encoded data removed]",
      "text/plain": [
       "<Figure size 648x504 with 1 Axes>"
      ]
     },
     "metadata": {
      "image/png": {
       "height": 448,
       "width": 562
      },
      "needs_background": "light"
     },
     "output_type": "display_data"
    }
   ],
   "source": [
    "# checking hispanic/latino distribution\n",
    "plt.subplots(figsize=(9,7))\n",
    "sns.barplot(x=data_binary_hispanic.HispanicLatino.value_counts().index,\n",
    "            y=data_binary_hispanic.HispanicLatino.value_counts().values, palette='Blues_d')\n",
    "plt.ylabel('Count', fontsize = 16)\n",
    "plt.xlabel('Hispanic/Latino', fontsize = 16)\n",
    "plt.title('Hispanic/Latino Employees', fontsize = 16)\n",
    "plt.show()"
   ]
  },
  {
   "cell_type": "markdown",
   "metadata": {},
   "source": [
    "### Handling 'CitizenDesc' column"
   ]
  },
  {
   "cell_type": "code",
   "execution_count": 34,
   "metadata": {},
   "outputs": [
    {
     "data": {
      "text/plain": [
       "array(['US Citizen', 'Eligible NonCitizen', 'Non-Citizen'], dtype=object)"
      ]
     },
     "execution_count": 34,
     "metadata": {},
     "output_type": "execute_result"
    }
   ],
   "source": [
    "data_binary_hispanic.CitizenDesc.unique()"
   ]
  },
  {
   "cell_type": "markdown",
   "metadata": {},
   "source": [
    "Since this column as 3 possible labels, I added a new column with codes that match the CitizenDesc text field."
   ]
  },
  {
   "cell_type": "code",
   "execution_count": 35,
   "metadata": {},
   "outputs": [],
   "source": [
    "# create new column. code: US Citizen = 1, Elegible NonCitizen = 2, Non-Citizen = 0\n",
    "\n",
    "citizen_labels = {'US Citizen':1, 'Eligible NonCitizen':2, 'Non-Citizen':0}\n",
    "\n",
    "data_binary_hispanic['CitizenID'] = data_binary_hispanic['CitizenDesc'].map(citizen_labels)"
   ]
  },
  {
   "cell_type": "code",
   "execution_count": 36,
   "metadata": {},
   "outputs": [
    {
     "data": {
      "text/plain": [
       "array([1, 2, 0], dtype=int64)"
      ]
     },
     "execution_count": 36,
     "metadata": {},
     "output_type": "execute_result"
    }
   ],
   "source": [
    "data_binary_hispanic.CitizenID.unique()"
   ]
  },
  {
   "cell_type": "code",
   "execution_count": 37,
   "metadata": {},
   "outputs": [
    {
     "data": {
      "text/plain": [
       "(<Figure size 648x504 with 1 Axes>,\n",
       " <matplotlib.axes._subplots.AxesSubplot at 0x1f42d6a1f60>)"
      ]
     },
     "execution_count": 37,
     "metadata": {},
     "output_type": "execute_result"
    },
    {
     "data": {
      "text/plain": [
       "<matplotlib.axes._subplots.AxesSubplot at 0x1f42d6a1f60>"
      ]
     },
     "execution_count": 37,
     "metadata": {},
     "output_type": "execute_result"
    },
    {
     "data": {
      "text/plain": [
       "Text(0, 0.5, 'Count')"
      ]
     },
     "execution_count": 37,
     "metadata": {},
     "output_type": "execute_result"
    },
    {
     "data": {
      "text/plain": [
       "Text(0.5, 0, 'Citizenship')"
      ]
     },
     "execution_count": 37,
     "metadata": {},
     "output_type": "execute_result"
    },
    {
     "data": {
      "text/plain": [
       "Text(0.5, 1.0, 'Employees by Citizenship')"
      ]
     },
     "execution_count": 37,
     "metadata": {},
     "output_type": "execute_result"
    },
    {
     "data": {
      "image/png": "[encoded data removed]",
      "text/plain": [
       "<Figure size 648x504 with 1 Axes>"
      ]
     },
     "metadata": {
      "image/png": {
       "height": 448,
       "width": 562
      },
      "needs_background": "light"
     },
     "output_type": "display_data"
    }
   ],
   "source": [
    "# checking citizen distribution\n",
    "plt.subplots(figsize=(9,7))\n",
    "sns.barplot(x=data_binary_hispanic.CitizenDesc.value_counts().index,\n",
    "            y=data_binary_hispanic.CitizenDesc.value_counts().values, palette='Blues_d')\n",
    "plt.ylabel('Count', fontsize = 16)\n",
    "plt.xlabel('Citizenship', fontsize = 16)\n",
    "plt.title('Employees by Citizenship', fontsize = 16)\n",
    "plt.show()"
   ]
  },
  {
   "cell_type": "markdown",
   "metadata": {},
   "source": [
    "### Unique values by categorical column"
   ]
  },
  {
   "cell_type": "code",
   "execution_count": 38,
   "metadata": {},
   "outputs": [
    {
     "name": "stdout",
     "output_type": "stream",
     "text": [
      "Position  :  ['Accountant I' 'Administrative Assistant' 'Area Sales Manager'\n",
      " 'BI Developer' 'BI Director' 'CIO' 'Data Architect'\n",
      " 'Database Administrator' 'Data Analyst' 'Director of Operations'\n",
      " 'Director of Sales' 'IT Director' 'IT Manager - DB' 'IT Manager - Infra'\n",
      " 'IT Manager - Support' 'IT Support' 'Network Engineer' 'President & CEO'\n",
      " 'Production Manager' 'Production Technician I' 'Production Technician II'\n",
      " 'Sales Manager' 'Senior BI Developer' 'Shared Services Manager'\n",
      " 'Software Engineer' 'Software Engineering Manager' 'Sr. Accountant'\n",
      " 'Sr. DBA' 'Enterprise Architect' 'Principal Data Architect'\n",
      " 'Sr. Network Engineer']\n",
      "State  :  ['MA' 'VA' 'VT' 'WA' 'NH' 'NY' 'OH' 'ID' 'TN' 'UT' 'AL' 'NC' 'MT' 'AZ'\n",
      " 'ME' 'CA' 'CT' 'IN' 'NV' 'CO' 'TX' 'GA' 'FL' 'KY' 'ND' 'OR' 'RI' 'PA']\n",
      "Sex  :  ['F' 'M']\n",
      "MaritalDesc  :  ['Married' 'Divorced' 'Single' 'Widowed' 'Separated']\n",
      "CitizenDesc  :  ['US Citizen' 'Eligible NonCitizen' 'Non-Citizen']\n",
      "RaceDesc  :  ['Black or African American' 'White' 'Asian'\n",
      " 'American Indian or Alaska Native' 'Two or more races' 'Hispanic']\n",
      "TermReason  :  ['N/A - still employed' nan 'career change' 'Another position'\n",
      " 'attendance' 'relocation out of area' 'N/A - Has not started yet'\n",
      " 'performance' 'no-call, no-show' 'hours' 'medical issues' 'retiring'\n",
      " 'unhappy' 'more money' 'return to school' 'gross misconduct' 'military'\n",
      " 'maternity leave - did not return']\n",
      "EmploymentStatus  :  ['Active' 'Terminated for Cause' 'Voluntarily Terminated' 'Future Start'\n",
      " 'Leave of Absence']\n",
      "Department  :  ['Admin Offices' 'Sales' 'IT/IS' 'Production' 'Executive Office'\n",
      " 'Software Engineering']\n",
      "ManagerName  :  ['Brandon R. LeBlanc' 'John Smith' 'Lynn Daneault' 'Brian Champaigne'\n",
      " 'Jennifer Zamora' 'Janet King' 'Simon Roup' 'Eric Dougall' 'Peter Monroe'\n",
      " 'Board of Directors' 'Amy Dunn' 'Brannon Miller' 'David Stanley'\n",
      " 'Elijiah Gray' 'Kelley Spirea' 'Ketsia Liebig' 'Kissy Sullivan'\n",
      " 'Michael Albert' 'Webster Butler' 'Debra Houlihan' 'Alex Sweetwater']\n",
      "RecruitmentSource  :  ['Diversity Job Fair' 'Website Banner Ads' 'Internet Search'\n",
      " 'Pay Per Click - Google' 'Social Networks - Facebook Twitter etc'\n",
      " 'Billboard' 'Monster.com' 'Newspager/Magazine' 'Professional Society'\n",
      " 'Other' 'Employee Referral' 'Indeed' 'Search Engine - Google Bing Yahoo'\n",
      " 'Glassdoor' 'Vendor Referral' 'MBTA ads' 'Information Session'\n",
      " 'Word of Mouth' 'Pay Per Click' 'On-campus Recruiting'\n",
      " 'On-line Web application' 'Careerbuilder' 'Company Intranet - Partner']\n",
      "PerformanceScore  :  ['Fully Meets' 'PIP' 'Exceeds' 'Needs Improvement']\n"
     ]
    }
   ],
   "source": [
    "# checking unique values for each categorical column, except for the Employee Name\n",
    "for col in data_binary_hispanic.iloc[:,1:]:\n",
    "    if data_binary_hispanic[col].dtypes == 'object':\n",
    "        print(col,' : ',data_binary_hispanic[col].str.rstrip().unique())"
   ]
  },
  {
   "cell_type": "markdown",
   "metadata": {},
   "source": [
    "### Add new columns"
   ]
  },
  {
   "cell_type": "code",
   "execution_count": 39,
   "metadata": {},
   "outputs": [
    {
     "data": {
      "text/html": [
       "<div>\n",
       "<style scoped>\n",
       "    .dataframe tbody tr th:only-of-type {\n",
       "        vertical-align: middle;\n",
       "    }\n",
       "\n",
       "    .dataframe tbody tr th {\n",
       "        vertical-align: top;\n",
       "    }\n",
       "\n",
       "    .dataframe thead th {\n",
       "        text-align: right;\n",
       "    }\n",
       "</style>\n",
       "<table border=\"1\" class=\"dataframe\">\n",
       "  <thead>\n",
       "    <tr style=\"text-align: right;\">\n",
       "      <th></th>\n",
       "      <th>Employee_Name</th>\n",
       "      <th>EmpID</th>\n",
       "      <th>MarriedID</th>\n",
       "      <th>MaritalStatusID</th>\n",
       "      <th>GenderID</th>\n",
       "      <th>EmpStatusID</th>\n",
       "      <th>DeptID</th>\n",
       "      <th>PerfScoreID</th>\n",
       "      <th>FromDiversityJobFairID</th>\n",
       "      <th>PayRate</th>\n",
       "      <th>...</th>\n",
       "      <th>ManagerName</th>\n",
       "      <th>ManagerID</th>\n",
       "      <th>RecruitmentSource</th>\n",
       "      <th>PerformanceScore</th>\n",
       "      <th>EngagementSurvey</th>\n",
       "      <th>EmpSatisfaction</th>\n",
       "      <th>SpecialProjectsCount</th>\n",
       "      <th>LastPerformanceReview_Date</th>\n",
       "      <th>CitizenID</th>\n",
       "      <th>Age</th>\n",
       "    </tr>\n",
       "  </thead>\n",
       "  <tbody>\n",
       "    <tr>\n",
       "      <th>0</th>\n",
       "      <td>Brown, Mia</td>\n",
       "      <td>1103024456</td>\n",
       "      <td>1</td>\n",
       "      <td>1</td>\n",
       "      <td>0</td>\n",
       "      <td>1</td>\n",
       "      <td>1</td>\n",
       "      <td>3</td>\n",
       "      <td>1</td>\n",
       "      <td>28.50</td>\n",
       "      <td>...</td>\n",
       "      <td>Brandon R. LeBlanc</td>\n",
       "      <td>1</td>\n",
       "      <td>Diversity Job Fair</td>\n",
       "      <td>Fully Meets</td>\n",
       "      <td>2.04</td>\n",
       "      <td>2</td>\n",
       "      <td>6</td>\n",
       "      <td>2019-01-15</td>\n",
       "      <td>1</td>\n",
       "      <td>31</td>\n",
       "    </tr>\n",
       "    <tr>\n",
       "      <th>1</th>\n",
       "      <td>LaRotonda, William</td>\n",
       "      <td>1106026572</td>\n",
       "      <td>0</td>\n",
       "      <td>2</td>\n",
       "      <td>1</td>\n",
       "      <td>1</td>\n",
       "      <td>1</td>\n",
       "      <td>3</td>\n",
       "      <td>0</td>\n",
       "      <td>23.00</td>\n",
       "      <td>...</td>\n",
       "      <td>Brandon R. LeBlanc</td>\n",
       "      <td>1</td>\n",
       "      <td>Website Banner Ads</td>\n",
       "      <td>Fully Meets</td>\n",
       "      <td>5.00</td>\n",
       "      <td>4</td>\n",
       "      <td>4</td>\n",
       "      <td>2019-01-17</td>\n",
       "      <td>1</td>\n",
       "      <td>35</td>\n",
       "    </tr>\n",
       "    <tr>\n",
       "      <th>2</th>\n",
       "      <td>Steans, Tyrone</td>\n",
       "      <td>1302053333</td>\n",
       "      <td>0</td>\n",
       "      <td>0</td>\n",
       "      <td>1</td>\n",
       "      <td>1</td>\n",
       "      <td>1</td>\n",
       "      <td>3</td>\n",
       "      <td>0</td>\n",
       "      <td>29.00</td>\n",
       "      <td>...</td>\n",
       "      <td>Brandon R. LeBlanc</td>\n",
       "      <td>1</td>\n",
       "      <td>Internet Search</td>\n",
       "      <td>Fully Meets</td>\n",
       "      <td>3.90</td>\n",
       "      <td>5</td>\n",
       "      <td>5</td>\n",
       "      <td>2019-01-18</td>\n",
       "      <td>1</td>\n",
       "      <td>33</td>\n",
       "    </tr>\n",
       "    <tr>\n",
       "      <th>3</th>\n",
       "      <td>Howard, Estelle</td>\n",
       "      <td>1211050782</td>\n",
       "      <td>1</td>\n",
       "      <td>1</td>\n",
       "      <td>0</td>\n",
       "      <td>1</td>\n",
       "      <td>1</td>\n",
       "      <td>3</td>\n",
       "      <td>0</td>\n",
       "      <td>21.50</td>\n",
       "      <td>...</td>\n",
       "      <td>Brandon R. LeBlanc</td>\n",
       "      <td>1</td>\n",
       "      <td>Pay Per Click - Google</td>\n",
       "      <td>Fully Meets</td>\n",
       "      <td>3.24</td>\n",
       "      <td>3</td>\n",
       "      <td>4</td>\n",
       "      <td>1970-01-01</td>\n",
       "      <td>1</td>\n",
       "      <td>34</td>\n",
       "    </tr>\n",
       "    <tr>\n",
       "      <th>4</th>\n",
       "      <td>Singh, Nan</td>\n",
       "      <td>1307059817</td>\n",
       "      <td>0</td>\n",
       "      <td>0</td>\n",
       "      <td>0</td>\n",
       "      <td>1</td>\n",
       "      <td>1</td>\n",
       "      <td>3</td>\n",
       "      <td>0</td>\n",
       "      <td>16.56</td>\n",
       "      <td>...</td>\n",
       "      <td>Brandon R. LeBlanc</td>\n",
       "      <td>1</td>\n",
       "      <td>Website Banner Ads</td>\n",
       "      <td>Fully Meets</td>\n",
       "      <td>5.00</td>\n",
       "      <td>3</td>\n",
       "      <td>5</td>\n",
       "      <td>2019-01-15</td>\n",
       "      <td>1</td>\n",
       "      <td>31</td>\n",
       "    </tr>\n",
       "  </tbody>\n",
       "</table>\n",
       "<p>5 rows × 36 columns</p>\n",
       "</div>"
      ],
      "text/plain": [
       "          Employee_Name       EmpID  MarriedID  MaritalStatusID  GenderID  \\\n",
       "0            Brown, Mia  1103024456          1                1         0   \n",
       "1  LaRotonda, William    1106026572          0                2         1   \n",
       "2      Steans, Tyrone    1302053333          0                0         1   \n",
       "3       Howard, Estelle  1211050782          1                1         0   \n",
       "4           Singh, Nan   1307059817          0                0         0   \n",
       "\n",
       "   EmpStatusID  DeptID  PerfScoreID  FromDiversityJobFairID  PayRate  ...  \\\n",
       "0            1       1            3                       1    28.50  ...   \n",
       "1            1       1            3                       0    23.00  ...   \n",
       "2            1       1            3                       0    29.00  ...   \n",
       "3            1       1            3                       0    21.50  ...   \n",
       "4            1       1            3                       0    16.56  ...   \n",
       "\n",
       "          ManagerName  ManagerID       RecruitmentSource PerformanceScore  \\\n",
       "0  Brandon R. LeBlanc          1      Diversity Job Fair      Fully Meets   \n",
       "1  Brandon R. LeBlanc          1      Website Banner Ads      Fully Meets   \n",
       "2  Brandon R. LeBlanc          1         Internet Search      Fully Meets   \n",
       "3  Brandon R. LeBlanc          1  Pay Per Click - Google      Fully Meets   \n",
       "4  Brandon R. LeBlanc          1      Website Banner Ads      Fully Meets   \n",
       "\n",
       "   EngagementSurvey EmpSatisfaction SpecialProjectsCount  \\\n",
       "0              2.04               2                    6   \n",
       "1              5.00               4                    4   \n",
       "2              3.90               5                    5   \n",
       "3              3.24               3                    4   \n",
       "4              5.00               3                    5   \n",
       "\n",
       "  LastPerformanceReview_Date CitizenID  Age  \n",
       "0                 2019-01-15         1   31  \n",
       "1                 2019-01-17         1   35  \n",
       "2                 2019-01-18         1   33  \n",
       "3                 1970-01-01         1   34  \n",
       "4                 2019-01-15         1   31  \n",
       "\n",
       "[5 rows x 36 columns]"
      ]
     },
     "execution_count": 39,
     "metadata": {},
     "output_type": "execute_result"
    }
   ],
   "source": [
    "# add column age\n",
    "\n",
    "now = pd.Timestamp('now') # calculate the age related to present\n",
    "data_binary_hispanic['Age'] = ((now - data_binary_hispanic.DOB)/365).dt.days\n",
    "data_binary_hispanic.head()"
   ]
  },
  {
   "cell_type": "code",
   "execution_count": 40,
   "metadata": {},
   "outputs": [
    {
     "data": {
      "text/plain": [
       "(<Figure size 648x504 with 1 Axes>,\n",
       " <matplotlib.axes._subplots.AxesSubplot at 0x1f42d775c88>)"
      ]
     },
     "execution_count": 40,
     "metadata": {},
     "output_type": "execute_result"
    },
    {
     "data": {
      "text/plain": [
       "(array([47., 67., 51., 48., 35., 27., 19.,  3.,  4.,  9.]),\n",
       " array([27. , 31.1, 35.2, 39.3, 43.4, 47.5, 51.6, 55.7, 59.8, 63.9, 68. ]),\n",
       " <a list of 10 Patch objects>)"
      ]
     },
     "execution_count": 40,
     "metadata": {},
     "output_type": "execute_result"
    },
    {
     "data": {
      "text/plain": [
       "Text(0, 0.5, 'Count')"
      ]
     },
     "execution_count": 40,
     "metadata": {},
     "output_type": "execute_result"
    },
    {
     "data": {
      "text/plain": [
       "Text(0.5, 0, 'Age')"
      ]
     },
     "execution_count": 40,
     "metadata": {},
     "output_type": "execute_result"
    },
    {
     "data": {
      "text/plain": [
       "Text(0.5, 1.0, 'Employees by Age')"
      ]
     },
     "execution_count": 40,
     "metadata": {},
     "output_type": "execute_result"
    },
    {
     "data": {
      "image/png": "[encoded data removed]",
      "text/plain": [
       "<Figure size 648x504 with 1 Axes>"
      ]
     },
     "metadata": {
      "image/png": {
       "height": 448,
       "width": 561
      },
      "needs_background": "light"
     },
     "output_type": "display_data"
    }
   ],
   "source": [
    "# check the employees age distribution\n",
    "plt.subplots(figsize=(9,7))\n",
    "plt.hist(data_binary_hispanic.Age)\n",
    "#sns.barplot(x=data_binary_hispanic.CitizenDesc.value_counts().index,\n",
    "#            y=data_binary_hispanic.CitizenDesc.value_counts().values, palette='Blues_d')\n",
    "plt.ylabel('Count', fontsize = 16)\n",
    "plt.xlabel('Age', fontsize = 16)\n",
    "plt.title('Employees by Age', fontsize = 16)\n",
    "plt.show()"
   ]
  },
  {
   "cell_type": "code",
   "execution_count": 41,
   "metadata": {},
   "outputs": [
    {
     "data": {
      "text/html": [
       "<div>\n",
       "<style scoped>\n",
       "    .dataframe tbody tr th:only-of-type {\n",
       "        vertical-align: middle;\n",
       "    }\n",
       "\n",
       "    .dataframe tbody tr th {\n",
       "        vertical-align: top;\n",
       "    }\n",
       "\n",
       "    .dataframe thead th {\n",
       "        text-align: right;\n",
       "    }\n",
       "</style>\n",
       "<table border=\"1\" class=\"dataframe\">\n",
       "  <thead>\n",
       "    <tr style=\"text-align: right;\">\n",
       "      <th></th>\n",
       "      <th>Employee_Name</th>\n",
       "      <th>EmpID</th>\n",
       "      <th>MarriedID</th>\n",
       "      <th>MaritalStatusID</th>\n",
       "      <th>GenderID</th>\n",
       "      <th>EmpStatusID</th>\n",
       "      <th>DeptID</th>\n",
       "      <th>PerfScoreID</th>\n",
       "      <th>FromDiversityJobFairID</th>\n",
       "      <th>PayRate</th>\n",
       "      <th>...</th>\n",
       "      <th>ManagerID</th>\n",
       "      <th>RecruitmentSource</th>\n",
       "      <th>PerformanceScore</th>\n",
       "      <th>EngagementSurvey</th>\n",
       "      <th>EmpSatisfaction</th>\n",
       "      <th>SpecialProjectsCount</th>\n",
       "      <th>LastPerformanceReview_Date</th>\n",
       "      <th>CitizenID</th>\n",
       "      <th>Age</th>\n",
       "      <th>TimeEmployee</th>\n",
       "    </tr>\n",
       "  </thead>\n",
       "  <tbody>\n",
       "    <tr>\n",
       "      <th>0</th>\n",
       "      <td>Brown, Mia</td>\n",
       "      <td>1103024456</td>\n",
       "      <td>1</td>\n",
       "      <td>1</td>\n",
       "      <td>0</td>\n",
       "      <td>1</td>\n",
       "      <td>1</td>\n",
       "      <td>3</td>\n",
       "      <td>1</td>\n",
       "      <td>28.50</td>\n",
       "      <td>...</td>\n",
       "      <td>1</td>\n",
       "      <td>Diversity Job Fair</td>\n",
       "      <td>Fully Meets</td>\n",
       "      <td>2.04</td>\n",
       "      <td>2</td>\n",
       "      <td>6</td>\n",
       "      <td>2019-01-15</td>\n",
       "      <td>1</td>\n",
       "      <td>31</td>\n",
       "      <td>10</td>\n",
       "    </tr>\n",
       "    <tr>\n",
       "      <th>1</th>\n",
       "      <td>LaRotonda, William</td>\n",
       "      <td>1106026572</td>\n",
       "      <td>0</td>\n",
       "      <td>2</td>\n",
       "      <td>1</td>\n",
       "      <td>1</td>\n",
       "      <td>1</td>\n",
       "      <td>3</td>\n",
       "      <td>0</td>\n",
       "      <td>23.00</td>\n",
       "      <td>...</td>\n",
       "      <td>1</td>\n",
       "      <td>Website Banner Ads</td>\n",
       "      <td>Fully Meets</td>\n",
       "      <td>5.00</td>\n",
       "      <td>4</td>\n",
       "      <td>4</td>\n",
       "      <td>2019-01-17</td>\n",
       "      <td>1</td>\n",
       "      <td>35</td>\n",
       "      <td>5</td>\n",
       "    </tr>\n",
       "    <tr>\n",
       "      <th>2</th>\n",
       "      <td>Steans, Tyrone</td>\n",
       "      <td>1302053333</td>\n",
       "      <td>0</td>\n",
       "      <td>0</td>\n",
       "      <td>1</td>\n",
       "      <td>1</td>\n",
       "      <td>1</td>\n",
       "      <td>3</td>\n",
       "      <td>0</td>\n",
       "      <td>29.00</td>\n",
       "      <td>...</td>\n",
       "      <td>1</td>\n",
       "      <td>Internet Search</td>\n",
       "      <td>Fully Meets</td>\n",
       "      <td>3.90</td>\n",
       "      <td>5</td>\n",
       "      <td>5</td>\n",
       "      <td>2019-01-18</td>\n",
       "      <td>1</td>\n",
       "      <td>33</td>\n",
       "      <td>5</td>\n",
       "    </tr>\n",
       "    <tr>\n",
       "      <th>3</th>\n",
       "      <td>Howard, Estelle</td>\n",
       "      <td>1211050782</td>\n",
       "      <td>1</td>\n",
       "      <td>1</td>\n",
       "      <td>0</td>\n",
       "      <td>1</td>\n",
       "      <td>1</td>\n",
       "      <td>3</td>\n",
       "      <td>0</td>\n",
       "      <td>21.50</td>\n",
       "      <td>...</td>\n",
       "      <td>1</td>\n",
       "      <td>Pay Per Click - Google</td>\n",
       "      <td>Fully Meets</td>\n",
       "      <td>3.24</td>\n",
       "      <td>3</td>\n",
       "      <td>4</td>\n",
       "      <td>1970-01-01</td>\n",
       "      <td>1</td>\n",
       "      <td>34</td>\n",
       "      <td>0</td>\n",
       "    </tr>\n",
       "    <tr>\n",
       "      <th>4</th>\n",
       "      <td>Singh, Nan</td>\n",
       "      <td>1307059817</td>\n",
       "      <td>0</td>\n",
       "      <td>0</td>\n",
       "      <td>0</td>\n",
       "      <td>1</td>\n",
       "      <td>1</td>\n",
       "      <td>3</td>\n",
       "      <td>0</td>\n",
       "      <td>16.56</td>\n",
       "      <td>...</td>\n",
       "      <td>1</td>\n",
       "      <td>Website Banner Ads</td>\n",
       "      <td>Fully Meets</td>\n",
       "      <td>5.00</td>\n",
       "      <td>3</td>\n",
       "      <td>5</td>\n",
       "      <td>2019-01-15</td>\n",
       "      <td>1</td>\n",
       "      <td>31</td>\n",
       "      <td>4</td>\n",
       "    </tr>\n",
       "  </tbody>\n",
       "</table>\n",
       "<p>5 rows × 37 columns</p>\n",
       "</div>"
      ],
      "text/plain": [
       "          Employee_Name       EmpID  MarriedID  MaritalStatusID  GenderID  \\\n",
       "0            Brown, Mia  1103024456          1                1         0   \n",
       "1  LaRotonda, William    1106026572          0                2         1   \n",
       "2      Steans, Tyrone    1302053333          0                0         1   \n",
       "3       Howard, Estelle  1211050782          1                1         0   \n",
       "4           Singh, Nan   1307059817          0                0         0   \n",
       "\n",
       "   EmpStatusID  DeptID  PerfScoreID  FromDiversityJobFairID  PayRate  ...  \\\n",
       "0            1       1            3                       1    28.50  ...   \n",
       "1            1       1            3                       0    23.00  ...   \n",
       "2            1       1            3                       0    29.00  ...   \n",
       "3            1       1            3                       0    21.50  ...   \n",
       "4            1       1            3                       0    16.56  ...   \n",
       "\n",
       "   ManagerID       RecruitmentSource PerformanceScore EngagementSurvey  \\\n",
       "0          1      Diversity Job Fair      Fully Meets             2.04   \n",
       "1          1      Website Banner Ads      Fully Meets             5.00   \n",
       "2          1         Internet Search      Fully Meets             3.90   \n",
       "3          1  Pay Per Click - Google      Fully Meets             3.24   \n",
       "4          1      Website Banner Ads      Fully Meets             5.00   \n",
       "\n",
       "   EmpSatisfaction SpecialProjectsCount LastPerformanceReview_Date CitizenID  \\\n",
       "0                2                    6                 2019-01-15         1   \n",
       "1                4                    4                 2019-01-17         1   \n",
       "2                5                    5                 2019-01-18         1   \n",
       "3                3                    4                 1970-01-01         1   \n",
       "4                3                    5                 2019-01-15         1   \n",
       "\n",
       "  Age  TimeEmployee  \n",
       "0  31            10  \n",
       "1  35             5  \n",
       "2  33             5  \n",
       "3  34             0  \n",
       "4  31             4  \n",
       "\n",
       "[5 rows x 37 columns]"
      ]
     },
     "execution_count": 41,
     "metadata": {},
     "output_type": "execute_result"
    }
   ],
   "source": [
    "# years as an employee of the company\n",
    "data_binary_hispanic['TimeEmployee'] = np.where(data_binary_hispanic.EmploymentStatus == 'Active',\n",
    "                                                ((now - data_binary_hispanic.DateofHire)/365).dt.days,\n",
    "                                                ((data_binary_hispanic.DateofTermination - data_binary_hispanic.DateofHire)/365).dt.days)\n",
    "data_binary_hispanic.head()"
   ]
  },
  {
   "cell_type": "code",
   "execution_count": 42,
   "metadata": {},
   "outputs": [
    {
     "data": {
      "text/plain": [
       "N/A - still employed                196\n",
       "Another position                     20\n",
       "unhappy                              14\n",
       "more money                           11\n",
       "N/A - Has not started yet            11\n",
       "career change                         9\n",
       "hours                                 9\n",
       "attendance                            7\n",
       "return to school                      5\n",
       "relocation out of area                5\n",
       "retiring                              4\n",
       "military                              4\n",
       "performance                           4\n",
       "no-call, no-show                      3\n",
       "medical issues                        3\n",
       "maternity leave - did not return      3\n",
       "0                                     1\n",
       "gross misconduct                      1\n",
       "Name: TermReason, dtype: int64"
      ]
     },
     "execution_count": 42,
     "metadata": {},
     "output_type": "execute_result"
    }
   ],
   "source": [
    "# check main reasons for the employee to quit\n",
    "data_binary_hispanic.TermReason.value_counts()"
   ]
  },
  {
   "cell_type": "code",
   "execution_count": 43,
   "metadata": {},
   "outputs": [
    {
     "data": {
      "text/plain": [
       "Active                    182\n",
       "Voluntarily Terminated     88\n",
       "Terminated for Cause       15\n",
       "Leave of Absence           14\n",
       "Future Start               11\n",
       "Name: EmploymentStatus, dtype: int64"
      ]
     },
     "execution_count": 43,
     "metadata": {},
     "output_type": "execute_result"
    }
   ],
   "source": [
    "# check employees status values\n",
    "data_binary_hispanic.EmploymentStatus.value_counts()"
   ]
  },
  {
   "cell_type": "markdown",
   "metadata": {},
   "source": [
    "### Save file to csv"
   ]
  },
  {
   "cell_type": "code",
   "execution_count": 44,
   "metadata": {},
   "outputs": [],
   "source": [
    "data_binary_hispanic.to_csv('Clean_ds_300.csv')"
   ]
  },
  {
   "cell_type": "code",
   "execution_count": null,
   "metadata": {},
   "outputs": [],
   "source": []
  }
 ],
 "metadata": {
  "kernelspec": {
   "display_name": "Python 3",
   "language": "python",
   "name": "python3"
  },
  "language_info": {
   "codemirror_mode": {
    "name": "ipython",
    "version": 3
   },
   "file_extension": ".py",
   "mimetype": "text/x-python",
   "name": "python",
   "nbconvert_exporter": "python",
   "pygments_lexer": "ipython3",
   "version": "3.7.3"
  }
 },
 "nbformat": 4,
 "nbformat_minor": 2
}
